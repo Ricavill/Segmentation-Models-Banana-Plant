{
 "cells": [
  {
   "cell_type": "code",
   "execution_count": 1,
   "id": "01634dc8",
   "metadata": {},
   "outputs": [],
   "source": [
    "import cv2 as cv\n",
    "import numpy as np\n",
    "import sys\n",
    "\n",
    "def crearMascaras(csv_path,images_path, result_path, joined_result_path):\n",
    "    archivo = open(csv_path,'r')\n",
    "\n",
    "    archivo.readline()\n",
    "    archivoActual=\"\"\n",
    "    imagenActual=\"\"\n",
    "    imagenNoCargada=True\n",
    "    imagen=\"\"\n",
    "    for linea in archivo:\n",
    "\n",
    "        lista=linea.strip().split(\",\")\n",
    "        if archivoActual!=lista[0]:\n",
    "            if archivoActual!=\"\":\n",
    "                juntas = np.concatenate((imagen, mascaraH), axis=1)\n",
    "                cv.imwrite(result_path+archivoActual, mascaraH)\n",
    "                cv.imwrite(joined_result_path+archivoActual, juntas)\n",
    "            archivoActual=lista[0]\n",
    "            imagenActual = cv.imread(images_path+lista[0])\n",
    "            mascaraH  = np.zeros((imagenActual.shape), np.uint8)\n",
    "        imagen=imagenActual\n",
    "        if imagen is None:\n",
    "            sys.exit(\"No se puede abrir imagen\")\n",
    "        etiquetas=lista[4:]\n",
    "        for i in range(len(etiquetas)//4):\n",
    "\n",
    "            #cuadradro en imagen RGB\n",
    "            cv.rectangle(imagen,\n",
    "            (int(etiquetas[i*4]),int(etiquetas[i*4+1])),\n",
    "            (int(etiquetas[i*4+2]),int(etiquetas[i*4+3])),\n",
    "            (255,0,255),\n",
    "            3)\n",
    "            #circulo (mitad de radio) en imagen RGB\n",
    "\n",
    "            #circulo de mitad del radio en mascara\n",
    "            cv.rectangle(mascaraH,\n",
    "            (int(etiquetas[i*4]),int(etiquetas[i*4+1])),\n",
    "            (int(etiquetas[i*4+2]),int(etiquetas[i*4+3])),\n",
    "            (255,255,255), -1)\n",
    "    juntas = np.concatenate((imagen, mascaraH), axis=1)\n",
    "    cv.imwrite(result_path+archivoActual, mascaraH)\n",
    "    cv.imwrite(joined_result_path+archivoActual, juntas)\n",
    "    archivo.close()\n",
    "    \n",
    "    "
   ]
  },
  {
   "cell_type": "code",
   "execution_count": 2,
   "id": "afeda559",
   "metadata": {},
   "outputs": [],
   "source": [
    "crearMascaras(\"test/_annotations.csv\",\"test/jpegs/\",\"test/masksH/\",\"test/juntas/\")"
   ]
  }
 ],
 "metadata": {
  "kernelspec": {
   "display_name": "Python 3",
   "language": "python",
   "name": "python3"
  },
  "language_info": {
   "codemirror_mode": {
    "name": "ipython",
    "version": 3
   },
   "file_extension": ".py",
   "mimetype": "text/x-python",
   "name": "python",
   "nbconvert_exporter": "python",
   "pygments_lexer": "ipython3",
   "version": "3.9.1"
  }
 },
 "nbformat": 4,
 "nbformat_minor": 5
}
